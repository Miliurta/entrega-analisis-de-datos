{
 "cells": [
  {
   "cell_type": "code",
   "execution_count": 103,
   "id": "a70b3b63-6a46-490b-8d5c-8e6b7af0c73a",
   "metadata": {},
   "outputs": [],
   "source": [
    "import pandas as pd"
   ]
  },
  {
   "cell_type": "code",
   "execution_count": 104,
   "id": "b77b9667-f9b2-41bf-abfb-9fc83524d364",
   "metadata": {},
   "outputs": [],
   "source": [
    "df = pd.read_csv('instagram.csv')"
   ]
  },
  {
   "cell_type": "code",
   "execution_count": 105,
   "id": "85161b65-5540-4562-aeef-d84aa8a7ae43",
   "metadata": {},
   "outputs": [
    {
     "name": "stdout",
     "output_type": "stream",
     "text": [
      "<class 'pandas.core.frame.DataFrame'>\n",
      "RangeIndex: 1000 entries, 0 to 999\n",
      "Data columns (total 8 columns):\n",
      " #   Column                    Non-Null Count  Dtype \n",
      "---  ------                    --------------  ----- \n",
      " 0   Influencer insta name     1000 non-null   object\n",
      " 1   instagram name            979 non-null    object\n",
      " 2   category_1                892 non-null    object\n",
      " 3   category_2                287 non-null    object\n",
      " 4   Followers                 1000 non-null   object\n",
      " 5   Audience country(mostly)  986 non-null    object\n",
      " 6   Authentic engagement\n",
      "    1000 non-null   object\n",
      " 7   Engagement avg\n",
      "          1000 non-null   object\n",
      "dtypes: object(8)\n",
      "memory usage: 62.6+ KB\n"
     ]
    }
   ],
   "source": [
    "df.info()"
   ]
  },
  {
   "cell_type": "code",
   "execution_count": 106,
   "id": "840fa92b-4dd9-4b94-99fd-7b722d8ae365",
   "metadata": {},
   "outputs": [
    {
     "data": {
      "text/html": [
       "<div>\n",
       "<style scoped>\n",
       "    .dataframe tbody tr th:only-of-type {\n",
       "        vertical-align: middle;\n",
       "    }\n",
       "\n",
       "    .dataframe tbody tr th {\n",
       "        vertical-align: top;\n",
       "    }\n",
       "\n",
       "    .dataframe thead th {\n",
       "        text-align: right;\n",
       "    }\n",
       "</style>\n",
       "<table border=\"1\" class=\"dataframe\">\n",
       "  <thead>\n",
       "    <tr style=\"text-align: right;\">\n",
       "      <th></th>\n",
       "      <th>Influencer insta name</th>\n",
       "      <th>instagram name</th>\n",
       "      <th>category_1</th>\n",
       "      <th>category_2</th>\n",
       "      <th>Followers</th>\n",
       "      <th>Audience country(mostly)</th>\n",
       "      <th>Authentic engagement\\r\\n</th>\n",
       "      <th>Engagement avg\\r\\n</th>\n",
       "    </tr>\n",
       "  </thead>\n",
       "  <tbody>\n",
       "    <tr>\n",
       "      <th>count</th>\n",
       "      <td>1000</td>\n",
       "      <td>979</td>\n",
       "      <td>892</td>\n",
       "      <td>287</td>\n",
       "      <td>1000</td>\n",
       "      <td>986</td>\n",
       "      <td>1000</td>\n",
       "      <td>1000</td>\n",
       "    </tr>\n",
       "    <tr>\n",
       "      <th>unique</th>\n",
       "      <td>997</td>\n",
       "      <td>975</td>\n",
       "      <td>31</td>\n",
       "      <td>27</td>\n",
       "      <td>411</td>\n",
       "      <td>32</td>\n",
       "      <td>850</td>\n",
       "      <td>778</td>\n",
       "    </tr>\n",
       "    <tr>\n",
       "      <th>top</th>\n",
       "      <td>angelinajolie</td>\n",
       "      <td>Bruno Goes 🎭</td>\n",
       "      <td>Music</td>\n",
       "      <td>Cinema &amp; Actors/actresses</td>\n",
       "      <td>6M</td>\n",
       "      <td>United States</td>\n",
       "      <td>1.1M</td>\n",
       "      <td>1.1M</td>\n",
       "    </tr>\n",
       "    <tr>\n",
       "      <th>freq</th>\n",
       "      <td>2</td>\n",
       "      <td>2</td>\n",
       "      <td>235</td>\n",
       "      <td>59</td>\n",
       "      <td>11</td>\n",
       "      <td>279</td>\n",
       "      <td>22</td>\n",
       "      <td>28</td>\n",
       "    </tr>\n",
       "  </tbody>\n",
       "</table>\n",
       "</div>"
      ],
      "text/plain": [
       "       Influencer insta name instagram name category_1  \\\n",
       "count                   1000            979        892   \n",
       "unique                   997            975         31   \n",
       "top            angelinajolie   Bruno Goes 🎭      Music   \n",
       "freq                       2              2        235   \n",
       "\n",
       "                       category_2 Followers Audience country(mostly)  \\\n",
       "count                         287      1000                      986   \n",
       "unique                         27       411                       32   \n",
       "top     Cinema & Actors/actresses        6M            United States   \n",
       "freq                           59        11                      279   \n",
       "\n",
       "       Authentic engagement\\r\\n Engagement avg\\r\\n  \n",
       "count                      1000               1000  \n",
       "unique                      850                778  \n",
       "top                        1.1M               1.1M  \n",
       "freq                         22                 28  "
      ]
     },
     "execution_count": 106,
     "metadata": {},
     "output_type": "execute_result"
    }
   ],
   "source": [
    "df.describe()"
   ]
  },
  {
   "cell_type": "code",
   "execution_count": 115,
   "id": "ae72ee95-0e19-4164-8682-5d6f317f80fe",
   "metadata": {},
   "outputs": [
    {
     "data": {
      "text/html": [
       "<div>\n",
       "<style scoped>\n",
       "    .dataframe tbody tr th:only-of-type {\n",
       "        vertical-align: middle;\n",
       "    }\n",
       "\n",
       "    .dataframe tbody tr th {\n",
       "        vertical-align: top;\n",
       "    }\n",
       "\n",
       "    .dataframe thead th {\n",
       "        text-align: right;\n",
       "    }\n",
       "</style>\n",
       "<table border=\"1\" class=\"dataframe\">\n",
       "  <thead>\n",
       "    <tr style=\"text-align: right;\">\n",
       "      <th></th>\n",
       "      <th>cuenta_instagram</th>\n",
       "      <th>nombre_del_influencer</th>\n",
       "      <th>categoria_principal</th>\n",
       "      <th>seguidores</th>\n",
       "      <th>pais_audiencia</th>\n",
       "      <th>engagement</th>\n",
       "      <th>engagement_promedio</th>\n",
       "    </tr>\n",
       "  </thead>\n",
       "  <tbody>\n",
       "    <tr>\n",
       "      <th>0</th>\n",
       "      <td>433</td>\n",
       "      <td>433</td>\n",
       "      <td>Sports with a ball</td>\n",
       "      <td>48500000.0</td>\n",
       "      <td>Spain</td>\n",
       "      <td>383100.0</td>\n",
       "      <td>637000.0</td>\n",
       "    </tr>\n",
       "    <tr>\n",
       "      <th>1</th>\n",
       "      <td>__youngbae__</td>\n",
       "      <td>TAEYANG</td>\n",
       "      <td>Music</td>\n",
       "      <td>12700000.0</td>\n",
       "      <td>Indonesia</td>\n",
       "      <td>478000.0</td>\n",
       "      <td>542300.0</td>\n",
       "    </tr>\n",
       "    <tr>\n",
       "      <th>2</th>\n",
       "      <td>_agentgirl_</td>\n",
       "      <td>НАСТЯ ИВЛЕЕВА</td>\n",
       "      <td>Shows</td>\n",
       "      <td>18800000.0</td>\n",
       "      <td>Russia</td>\n",
       "      <td>310800.0</td>\n",
       "      <td>377900.0</td>\n",
       "    </tr>\n",
       "    <tr>\n",
       "      <th>3</th>\n",
       "      <td>_imyour_joy</td>\n",
       "      <td>Joy</td>\n",
       "      <td>Lifestyle</td>\n",
       "      <td>13500000.0</td>\n",
       "      <td>Indonesia</td>\n",
       "      <td>1100000.0</td>\n",
       "      <td>1400000.0</td>\n",
       "    </tr>\n",
       "    <tr>\n",
       "      <th>4</th>\n",
       "      <td>_jeongjaehyun</td>\n",
       "      <td>Jaehyun</td>\n",
       "      <td>no tiene</td>\n",
       "      <td>11100000.0</td>\n",
       "      <td>Indonesia</td>\n",
       "      <td>2500000.0</td>\n",
       "      <td>3100000.0</td>\n",
       "    </tr>\n",
       "    <tr>\n",
       "      <th>...</th>\n",
       "      <td>...</td>\n",
       "      <td>...</td>\n",
       "      <td>...</td>\n",
       "      <td>...</td>\n",
       "      <td>...</td>\n",
       "      <td>...</td>\n",
       "      <td>...</td>\n",
       "    </tr>\n",
       "    <tr>\n",
       "      <th>995</th>\n",
       "      <td>zendaya</td>\n",
       "      <td>Zendaya</td>\n",
       "      <td>Cinema &amp; Actors/actresses</td>\n",
       "      <td>136100000.0</td>\n",
       "      <td>United States</td>\n",
       "      <td>6400000.0</td>\n",
       "      <td>8600000.0</td>\n",
       "    </tr>\n",
       "    <tr>\n",
       "      <th>996</th>\n",
       "      <td>zidane</td>\n",
       "      <td>zidane</td>\n",
       "      <td>Sports with a ball</td>\n",
       "      <td>31200000.0</td>\n",
       "      <td>Spain</td>\n",
       "      <td>546000.0</td>\n",
       "      <td>744100.0</td>\n",
       "    </tr>\n",
       "    <tr>\n",
       "      <th>997</th>\n",
       "      <td>zkdlin</td>\n",
       "      <td>KAI</td>\n",
       "      <td>Music</td>\n",
       "      <td>13900000.0</td>\n",
       "      <td>Indonesia</td>\n",
       "      <td>1300000.0</td>\n",
       "      <td>1600000.0</td>\n",
       "    </tr>\n",
       "    <tr>\n",
       "      <th>998</th>\n",
       "      <td>zoeisabellakravitz</td>\n",
       "      <td>Zoë Kravitz</td>\n",
       "      <td>Cinema &amp; Actors/actresses</td>\n",
       "      <td>8200000.0</td>\n",
       "      <td>United States</td>\n",
       "      <td>583000.0</td>\n",
       "      <td>885500.0</td>\n",
       "    </tr>\n",
       "    <tr>\n",
       "      <th>999</th>\n",
       "      <td>zoesugg</td>\n",
       "      <td>Zoë Sugg</td>\n",
       "      <td>Lifestyle</td>\n",
       "      <td>9400000.0</td>\n",
       "      <td>United Kingdom</td>\n",
       "      <td>208700.0</td>\n",
       "      <td>289300.0</td>\n",
       "    </tr>\n",
       "  </tbody>\n",
       "</table>\n",
       "<p>976 rows × 7 columns</p>\n",
       "</div>"
      ],
      "text/plain": [
       "       cuenta_instagram nombre_del_influencer        categoria_principal  \\\n",
       "0                   433                   433         Sports with a ball   \n",
       "1          __youngbae__               TAEYANG                      Music   \n",
       "2           _agentgirl_         НАСТЯ ИВЛЕЕВА                      Shows   \n",
       "3           _imyour_joy                   Joy                  Lifestyle   \n",
       "4         _jeongjaehyun               Jaehyun                   no tiene   \n",
       "..                  ...                   ...                        ...   \n",
       "995             zendaya               Zendaya  Cinema & Actors/actresses   \n",
       "996              zidane                zidane         Sports with a ball   \n",
       "997              zkdlin                   KAI                      Music   \n",
       "998  zoeisabellakravitz           Zoë Kravitz  Cinema & Actors/actresses   \n",
       "999             zoesugg              Zoë Sugg                  Lifestyle   \n",
       "\n",
       "      seguidores  pais_audiencia  engagement  engagement_promedio  \n",
       "0     48500000.0           Spain    383100.0             637000.0  \n",
       "1     12700000.0       Indonesia    478000.0             542300.0  \n",
       "2     18800000.0          Russia    310800.0             377900.0  \n",
       "3     13500000.0       Indonesia   1100000.0            1400000.0  \n",
       "4     11100000.0       Indonesia   2500000.0            3100000.0  \n",
       "..           ...             ...         ...                  ...  \n",
       "995  136100000.0   United States   6400000.0            8600000.0  \n",
       "996   31200000.0           Spain    546000.0             744100.0  \n",
       "997   13900000.0       Indonesia   1300000.0            1600000.0  \n",
       "998    8200000.0   United States    583000.0             885500.0  \n",
       "999    9400000.0  United Kingdom    208700.0             289300.0  \n",
       "\n",
       "[976 rows x 7 columns]"
      ]
     },
     "execution_count": 115,
     "metadata": {},
     "output_type": "execute_result"
    }
   ],
   "source": [
    "#corrijo nombres de las columnas para mantener formato snake\n",
    "df.columns = ['cuenta_instagram', 'nombre_del_influencer', 'categoria_principal',\n",
    "              'categoria_alternativa', 'seguidores', 'pais_audiencia', 'engagement',\n",
    "              'engagement_promedio']\n"
   ]
  },
  {
   "cell_type": "code",
   "execution_count": 124,
   "id": "fbf575a3-bdfd-4145-bf26-a76b14b8600b",
   "metadata": {},
   "outputs": [],
   "source": [
    "df = df.drop(columns = ['categoria_alternativa'])"
   ]
  },
  {
   "cell_type": "code",
   "execution_count": 108,
   "id": "866fcdbc-0c3e-418e-b61a-f58607df2d1e",
   "metadata": {},
   "outputs": [],
   "source": [
    "#en el caso de no tener el instagram del influencer, consideramos su nombre como el nombre de la cuenta.\n",
    "#optamos por hacer esto por el hecho de que estos valors NaN si tienen informacion en los campos de seguidores\n",
    "#y de engagement\n",
    "df['cuenta_instagram'] = df['cuenta_instagram'].fillna(df['nombre_del_influencer'])"
   ]
  },
  {
   "cell_type": "code",
   "execution_count": 109,
   "id": "b6e5e833-bc90-4ac5-a08d-7b059b892cac",
   "metadata": {},
   "outputs": [],
   "source": [
    "#en el caso del resto de las categorias utilizaremos el valor arbitrario \"no tiene\" para llenar los missing values.\n",
    "df = df.fillna('no tiene')"
   ]
  },
  {
   "cell_type": "code",
   "execution_count": 110,
   "id": "2209f27a-e6ad-489f-9432-f12a63a48d66",
   "metadata": {},
   "outputs": [],
   "source": [
    "#elimino duplicados\n",
    "df = df.drop_duplicates(subset=['nombre_del_influencer'])"
   ]
  },
  {
   "cell_type": "code",
   "execution_count": 111,
   "id": "5f804d6a-e657-4cda-bf19-c113c37cf17e",
   "metadata": {},
   "outputs": [],
   "source": [
    "#transformaciones para poder operar\n",
    "for i in df.columns:\n",
    "    if i == 'engagement' or i == 'engagement_promedio' or i == 'seguidores':\n",
    "        df[i] = df[i].replace({'K': '*1000', 'M': '*1000000'}, regex=True).map(pd.eval).astype(float)"
   ]
  },
  {
   "cell_type": "code",
   "execution_count": 127,
   "id": "895b0281-d7eb-4a89-b5b4-cc3771c905df",
   "metadata": {},
   "outputs": [],
   "source": [
    "#creo columnas calculadas para el analisis\n",
    "df['porcentaje_engaged'] = df['engagement_promedio']/df['seguidores']*100"
   ]
  },
  {
   "cell_type": "code",
   "execution_count": 128,
   "id": "831ac590-6b13-46b1-98b2-5cf01b537eaf",
   "metadata": {},
   "outputs": [],
   "source": [
    "#datos generales del df\n",
    "df_top5 = df.nlargest(5,['seguidores'])\n"
   ]
  },
  {
   "cell_type": "code",
   "execution_count": 35,
   "id": "d8323703-a6ad-4191-b87d-a57cc6fb9594",
   "metadata": {},
   "outputs": [
    {
     "data": {
      "text/plain": [
       "<AxesSubplot:>"
      ]
     },
     "execution_count": 35,
     "metadata": {},
     "output_type": "execute_result"
    },
    {
     "data": {
      "image/png": "[encoded data removed]",
      "text/plain": [
       "<Figure size 432x288 with 1 Axes>"
      ]
     },
     "metadata": {
      "needs_background": "light"
     },
     "output_type": "display_data"
    }
   ],
   "source": [
    "df.seguidores.hist(bins=50)"
   ]
  },
  {
   "cell_type": "code",
   "execution_count": 28,
   "id": "8f3ca82f-2e81-4c15-a76c-c85fff9e06e4",
   "metadata": {},
   "outputs": [],
   "source": [
    "seguidores_mean = df.seguidores.mean()\n",
    "seguidores_std = df.seguidores.std()"
   ]
  },
  {
   "cell_type": "code",
   "execution_count": 36,
   "id": "31ed385c-6a89-4674-ae85-b9cd74b17f44",
   "metadata": {},
   "outputs": [],
   "source": [
    "lower_limit = seguidores_mean - 3 * seguidores_std\n",
    "upper_limit = seguidores_std + 3 * seguidores_std\n",
    "\n",
    "#no hay valores por debajo del lower limit\n",
    "#se opta por no eliminar los valore por encima del maximo visto que muestran a los \"mas famosos\" - \n",
    "#messi, beyonce, justin bieber, etc."
   ]
  },
  {
   "cell_type": "code",
   "execution_count": 44,
   "id": "afe923f6-5bf3-4ad3-9ba5-74b023dd661d",
   "metadata": {},
   "outputs": [],
   "source": []
  },
  {
   "cell_type": "code",
   "execution_count": 82,
   "id": "fbbadca6-9743-434f-b6dd-2ec8d1afc9de",
   "metadata": {},
   "outputs": [
    {
     "data": {
      "text/html": [
       "<div>\n",
       "<style scoped>\n",
       "    .dataframe tbody tr th:only-of-type {\n",
       "        vertical-align: middle;\n",
       "    }\n",
       "\n",
       "    .dataframe tbody tr th {\n",
       "        vertical-align: top;\n",
       "    }\n",
       "\n",
       "    .dataframe thead th {\n",
       "        text-align: right;\n",
       "    }\n",
       "</style>\n",
       "<table border=\"1\" class=\"dataframe\">\n",
       "  <thead>\n",
       "    <tr style=\"text-align: right;\">\n",
       "      <th></th>\n",
       "      <th>nombre_del_influencer</th>\n",
       "      <th>cuenta_instagram</th>\n",
       "      <th>categoria_principal</th>\n",
       "      <th>categoria_alternativa</th>\n",
       "      <th>seguidores</th>\n",
       "      <th>pais_audiencia</th>\n",
       "      <th>engagement</th>\n",
       "      <th>engagement_promedio</th>\n",
       "      <th>porcentaje_engaged</th>\n",
       "    </tr>\n",
       "  </thead>\n",
       "  <tbody>\n",
       "    <tr>\n",
       "      <th>0</th>\n",
       "      <td>433</td>\n",
       "      <td>433</td>\n",
       "      <td>Sports with a ball</td>\n",
       "      <td>no tiene</td>\n",
       "      <td>48500000.0</td>\n",
       "      <td>Spain</td>\n",
       "      <td>383100.0</td>\n",
       "      <td>637000.0</td>\n",
       "      <td>1.313402</td>\n",
       "    </tr>\n",
       "    <tr>\n",
       "      <th>1</th>\n",
       "      <td>__youngbae__</td>\n",
       "      <td>TAEYANG</td>\n",
       "      <td>Music</td>\n",
       "      <td>no tiene</td>\n",
       "      <td>12700000.0</td>\n",
       "      <td>Indonesia</td>\n",
       "      <td>478000.0</td>\n",
       "      <td>542300.0</td>\n",
       "      <td>4.270079</td>\n",
       "    </tr>\n",
       "    <tr>\n",
       "      <th>2</th>\n",
       "      <td>_agentgirl_</td>\n",
       "      <td>НАСТЯ ИВЛЕЕВА</td>\n",
       "      <td>Shows</td>\n",
       "      <td>no tiene</td>\n",
       "      <td>18800000.0</td>\n",
       "      <td>Russia</td>\n",
       "      <td>310800.0</td>\n",
       "      <td>377900.0</td>\n",
       "      <td>2.010106</td>\n",
       "    </tr>\n",
       "    <tr>\n",
       "      <th>3</th>\n",
       "      <td>_imyour_joy</td>\n",
       "      <td>Joy</td>\n",
       "      <td>Lifestyle</td>\n",
       "      <td>no tiene</td>\n",
       "      <td>13500000.0</td>\n",
       "      <td>Indonesia</td>\n",
       "      <td>1100000.0</td>\n",
       "      <td>1400000.0</td>\n",
       "      <td>10.370370</td>\n",
       "    </tr>\n",
       "    <tr>\n",
       "      <th>4</th>\n",
       "      <td>_jeongjaehyun</td>\n",
       "      <td>Jaehyun</td>\n",
       "      <td>no tiene</td>\n",
       "      <td>no tiene</td>\n",
       "      <td>11100000.0</td>\n",
       "      <td>Indonesia</td>\n",
       "      <td>2500000.0</td>\n",
       "      <td>3100000.0</td>\n",
       "      <td>27.927928</td>\n",
       "    </tr>\n",
       "  </tbody>\n",
       "</table>\n",
       "</div>"
      ],
      "text/plain": [
       "  nombre_del_influencer cuenta_instagram categoria_principal  \\\n",
       "0                   433              433  Sports with a ball   \n",
       "1          __youngbae__          TAEYANG               Music   \n",
       "2           _agentgirl_    НАСТЯ ИВЛЕЕВА               Shows   \n",
       "3           _imyour_joy              Joy           Lifestyle   \n",
       "4         _jeongjaehyun          Jaehyun            no tiene   \n",
       "\n",
       "  categoria_alternativa  seguidores pais_audiencia  engagement  \\\n",
       "0              no tiene  48500000.0          Spain    383100.0   \n",
       "1              no tiene  12700000.0      Indonesia    478000.0   \n",
       "2              no tiene  18800000.0         Russia    310800.0   \n",
       "3              no tiene  13500000.0      Indonesia   1100000.0   \n",
       "4              no tiene  11100000.0      Indonesia   2500000.0   \n",
       "\n",
       "   engagement_promedio  porcentaje_engaged  \n",
       "0             637000.0            1.313402  \n",
       "1             542300.0            4.270079  \n",
       "2             377900.0            2.010106  \n",
       "3            1400000.0           10.370370  \n",
       "4            3100000.0           27.927928  "
      ]
     },
     "execution_count": 82,
     "metadata": {},
     "output_type": "execute_result"
    }
   ],
   "source": []
  },
  {
   "cell_type": "code",
   "execution_count": 78,
   "id": "a825733b-9cac-493d-b608-52ab7d1d8e11",
   "metadata": {},
   "outputs": [
    {
     "ename": "SyntaxError",
     "evalue": "cannot assign to function call (4215116263.py, line 2)",
     "output_type": "error",
     "traceback": [
      "\u001b[0;36m  File \u001b[0;32m\"/var/folders/jh/pvj1nr1j4g30nwk20nv2lp380000gn/T/ipykernel_3700/4215116263.py\"\u001b[0;36m, line \u001b[0;32m2\u001b[0m\n\u001b[0;31m    df_por_pais = df_alt.groupby(['pais_audiencia']), index_col = 0).mean()\u001b[0m\n\u001b[0m                  ^\u001b[0m\n\u001b[0;31mSyntaxError\u001b[0m\u001b[0;31m:\u001b[0m cannot assign to function call\n"
     ]
    }
   ],
   "source": [
    "df_alt = df[df.pais_audiencia != 'no tiene']\n",
    "df_por_pais = df_alt.groupby(['pais_audiencia']), index_col = 0).mean()"
   ]
  },
  {
   "cell_type": "code",
   "execution_count": 69,
   "id": "769e0c2f-a051-44f2-9c32-d5c4c7690455",
   "metadata": {},
   "outputs": [],
   "source": [
    "df_alt = df[df.categoria_principal != 'no tiene']\n",
    "df_por_categoria = df_alt.groupby(['categoria_principal']).mean()"
   ]
  },
  {
   "cell_type": "code",
   "execution_count": 135,
   "id": "d75d4e3e-29b5-4beb-85cb-e496cceeba10",
   "metadata": {},
   "outputs": [
    {
     "data": {
      "text/plain": [
       "<matplotlib.legend.Legend at 0x7fa51b6bee50>"
      ]
     },
     "execution_count": 135,
     "metadata": {},
     "output_type": "execute_result"
    },
    {
     "data": {
      "image/png": "[encoded data removed]",
      "text/plain": [
       "<Figure size 1440x720 with 2 Axes>"
      ]
     },
     "metadata": {
      "needs_background": "light"
     },
     "output_type": "display_data"
    }
   ],
   "source": [
    "graph_por_pais = df_por_pais.drop(columns = ['engagement', 'engagement_promedio'])\n",
    "ax = graph_por_pais.plot.bar(rot = 90, subplots=True, sort_columns = True, figsize = (20,10))\n",
    "\n",
    "ax[1].legend(loc=2)  "
   ]
  },
  {
   "cell_type": "code",
   "execution_count": 134,
   "id": "5cd5434f-eba8-4df4-81d5-4fcf0cc66cd2",
   "metadata": {},
   "outputs": [
    {
     "data": {
      "text/plain": [
       "<matplotlib.legend.Legend at 0x7fa51b6cf130>"
      ]
     },
     "execution_count": 134,
     "metadata": {},
     "output_type": "execute_result"
    },
    {
     "data": {
      "image/png": "[encoded data removed]",
      "text/plain": [
       "<Figure size 1440x720 with 2 Axes>"
      ]
     },
     "metadata": {
      "needs_background": "light"
     },
     "output_type": "display_data"
    }
   ],
   "source": [
    "graph_por_categoria = df_por_categoria.drop(columns = ['engagement', 'engagement_promedio'])\n",
    "ax = graph_por_categoria.plot.bar(rot = 90, subplots=True, sort_columns = True, figsize=(20,10))\n",
    "\n",
    "ax[1].legend(loc=2)"
   ]
  },
  {
   "cell_type": "code",
   "execution_count": 120,
   "id": "7d669af2-55f3-4f4d-9adc-ba1dca3fd034",
   "metadata": {},
   "outputs": [
    {
     "name": "stdout",
     "output_type": "stream",
     "text": [
      "Collecting tabulate\n",
      "  Downloading tabulate-0.8.9-py3-none-any.whl (25 kB)\n",
      "Installing collected packages: tabulate\n",
      "Successfully installed tabulate-0.8.9\n"
     ]
    }
   ],
   "source": [
    "! pip install tabulate"
   ]
  },
  {
   "cell_type": "code",
   "execution_count": 129,
   "id": "35d16136-240e-47be-b208-09966a3cb0aa",
   "metadata": {},
   "outputs": [
    {
     "data": {
      "text/plain": [
       "'|     | cuenta_instagram   | nombre_del_influencer   | categoria_principal   |   seguidores | pais_audiencia   |   engagement |   engagement_promedio |   porcentaje_engaged |\\n|----:|:-------------------|:------------------------|:----------------------|-------------:|:-----------------|-------------:|----------------------:|---------------------:|\\n| 388 | instagram          | Instagram               | Photography           |    4.872e+08 | India            | 352300       |         467400        |             0.095936 |\\n| 203 | cristiano          | Cristiano Ronaldo       | Sports with a ball    |    4.196e+08 | India            |      5.7e+06 |              7e+06    |             1.66826  |\\n| 510 | kyliejenner        | Kylie 🤍                | Fashion               |    3.233e+08 | United States    |      7.6e+06 |              1.23e+07 |             3.80452  |\\n| 532 | leomessi           | Leo Messi               | Sports with a ball    |    3.154e+08 | Argentina        |      4e+06   |              5.3e+06  |             1.68041  |\\n| 814 | selenagomez        | Selena Gomez            | Music                 |    3.082e+08 | United States    |      3.3e+06 |              4.4e+06  |             1.42764  |'"
      ]
     },
     "execution_count": 129,
     "metadata": {},
     "output_type": "execute_result"
    }
   ],
   "source": [
    "df_top5.to_markdown()\n"
   ]
  },
  {
   "cell_type": "code",
   "execution_count": null,
   "id": "0829ef90-e72e-4e39-ad91-e0146c12aa5b",
   "metadata": {},
   "outputs": [],
   "source": []
  }
 ],
 "metadata": {
  "kernelspec": {
   "display_name": "Python 3 (ipykernel)",
   "language": "python",
   "name": "python3"
  },
  "language_info": {
   "codemirror_mode": {
    "name": "ipython",
    "version": 3
   },
   "file_extension": ".py",
   "mimetype": "text/x-python",
   "name": "python",
   "nbconvert_exporter": "python",
   "pygments_lexer": "ipython3",
   "version": "3.9.5"
  },
  "toc-autonumbering": true,
  "toc-showcode": true,
  "toc-showmarkdowntxt": false
 },
 "nbformat": 4,
 "nbformat_minor": 5
}
